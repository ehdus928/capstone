{
 "cells": [
  {
   "cell_type": "code",
   "execution_count": 1,
   "id": "08f4bf3c",
   "metadata": {},
   "outputs": [],
   "source": [
    "import psycopg2\n",
    "import pandas as pd\n",
    "import numpy as np\n",
    "import torch\n",
    "\n",
    "conn_string = \"\"\n",
    "conn = psycopg2.connect(conn_string)\n",
    "cur=conn.cursor()\n",
    "\n",
    "cur.execute(\"SELECT * FROM capstone.cap_data;\")\n",
    "result = cur.fetchall()"
   ]
  },
  {
   "cell_type": "code",
   "execution_count": 9,
   "id": "dbfd73bf",
   "metadata": {},
   "outputs": [
    {
     "data": {
      "text/plain": [
       "(45942, 7)"
      ]
     },
     "execution_count": 9,
     "metadata": {},
     "output_type": "execute_result"
    }
   ],
   "source": [
    "columns = [\"row_id\",\"subject_id\",\"hadm_id\",\"intime\",\"outtime\",\"information\",'readmission']\n",
    "df = pd.DataFrame(result,columns = columns)\n",
    "df.shape"
   ]
  },
  {
   "cell_type": "code",
   "execution_count": 11,
   "id": "d9d953b4",
   "metadata": {},
   "outputs": [],
   "source": [
    "train = df[:32160]\n",
    "validation = df[32160:39051]\n",
    "test = df[39051:45942]\n",
    "\n",
    "train.to_csv('train.csv',index=False)\n",
    "validation.to_csv('validation.csv',index=False)\n",
    "test.to_csv('test.csv',index=False)"
   ]
  },
  {
   "cell_type": "code",
   "execution_count": null,
   "id": "ff325eb5",
   "metadata": {},
   "outputs": [],
   "source": []
  },
  {
   "cell_type": "code",
   "execution_count": null,
   "id": "fa8c6373",
   "metadata": {},
   "outputs": [],
   "source": []
  }
 ],
 "metadata": {
  "kernelspec": {
   "display_name": "nlp2",
   "language": "python",
   "name": "nlp2"
  },
  "language_info": {
   "codemirror_mode": {
    "name": "ipython",
    "version": 3
   },
   "file_extension": ".py",
   "mimetype": "text/x-python",
   "name": "python",
   "nbconvert_exporter": "python",
   "pygments_lexer": "ipython3",
   "version": "3.7.11"
  }
 },
 "nbformat": 4,
 "nbformat_minor": 5
}
